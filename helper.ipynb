{
 "cells": [
  {
   "cell_type": "markdown",
   "id": "583695bf-5943-4a98-a8a1-220c17528111",
   "metadata": {},
   "source": [
    "#Efectos contextuales de dinamica de opiniones sobre una plataforma de crowdsourcing"
   ]
  },
  {
   "cell_type": "markdown",
   "id": "1adb257f-92ce-4f23-9201-ce50807c8c5b",
   "metadata": {},
   "source": [
    "##Helper de funciones"
   ]
  },
  {
   "cell_type": "markdown",
   "id": "20fb2c85-dc6e-4046-bbc3-bcdd58238aaa",
   "metadata": {},
   "source": [
    "###mixingfun"
   ]
  },
  {
   "cell_type": "markdown",
   "id": "ea0cf745-980a-419e-900e-5594edd7df95",
   "metadata": {},
   "source": [
    "Esta función genera un tibble a partir de una mezcla de 3 distribuciones multivariadas. Siendo Dim1, Dim2 y Dim3 las columnas con los valores de las 3 dimensiones y Dist una columna que contiene un numero que identifica la distribución de la cual provino la fila. "
   ]
  },
  {
   "cell_type": "markdown",
   "id": "5dfad106-e2d1-4579-a181-2e9c505ba3aa",
   "metadata": {},
   "source": [
    "####Argumentos"
   ]
  },
  {
   "cell_type": "markdown",
   "id": "4b2d8231-0cf1-47fd-aca4-14c1e8d60a8d",
   "metadata": {},
   "source": [
    "*dislist: debe ser una lista de 3 elementos que contenga \"n\" (numero de observaciones de cada distribución), \"means\" (medias de cada distribución) y \"cov_mat\" (matrices de covarianza 3 x 3 de cada distribución)"
   ]
  },
  {
   "cell_type": "code",
   "execution_count": null,
   "id": "e3064d02-7d4e-414b-9b3c-217503cd4e21",
   "metadata": {},
   "outputs": [],
   "source": [
    "mixingfun <- function(dislist){\n",
    "  #La funcion devuelve un tibble con los valores para las 3 dimensiones y la distribucion original de donde proviene cada valor\n",
    "  \n",
    "  #dislist: Tiene que ser una lista de 3 elementos nombrada como \"n\",\"means\" y \"cov_mat\" con un vector de longitud K, una lista de longitud K con vectores de longitud 3 y una lista de longitud K con matrices 3 x 3. El primer elemento marca la cantidad de sujetos a extraer de cada distribucion, el segundo elemento la media de cada distribucion y el ultimo la matriz de covarianza de cada distribucion.  \n",
    "  \n",
    "  library(MASS)\n",
    "  library(tidyverse)\n",
    "  \n",
    "  pmap(\n",
    "    dislist,\n",
    "    function(n, means, cov_mat) mvrnorm(n, means, cov_mat) #Genero los muestreos de la distribucion multivariada\n",
    "  ) %>% \n",
    "    lapply(as.data.frame) %>%  #Convierte cada matriz de la lista en dataframe\n",
    "    bind_rows() %>% #Une la lista de matrices en un solo dataframe\n",
    "    rename(Dim1 = V1,Dim2 = V2,Dim3 = V3) %>% #Cambia los nombres de las 3 columnas a algo mas representativo\n",
    "    mutate( #Creo una nueva variable para indicar de que distribucion proviene originalmente cada valor\n",
    "      Dist = rep( \n",
    "        1:length(dislist$n), dislist$n #Pongo un numero para cada distribucion y lo repito segun cuantos datos hay provenientes de esa distribucion\n",
    "      )\n",
    "    ) %>%\n",
    "    tibble() #Convierto el resultado final en un tibble\n",
    "  \n",
    "}"
   ]
  },
  {
   "cell_type": "markdown",
   "id": "37b8282c-4f22-47dc-a3dd-8b6752cf04dd",
   "metadata": {},
   "source": [
    "###shuffle_dist"
   ]
  },
  {
   "cell_type": "markdown",
   "id": "c99ff739-2ab4-4501-94cc-72fbd59f59a9",
   "metadata": {},
   "source": [
    "Esta función mezcla aleatoriamente las filas del tibble o dataframe pasado como argumento. Es usado con el resultado de mixingfun para aleatorizar el orden de las filas."
   ]
  },
  {
   "cell_type": "markdown",
   "id": "c6851699-324c-4fdf-9e91-73a5ef885342",
   "metadata": {},
   "source": [
    "####Argumentos"
   ]
  },
  {
   "cell_type": "code",
   "execution_count": null,
   "id": "d9f0100d-c197-46bc-8c91-6f16686d5575",
   "metadata": {},
   "outputs": [],
   "source": [
    "*distr: dataframe/tibble con n filas"
   ]
  },
  {
   "cell_type": "code",
   "execution_count": null,
   "id": "1c52a0fe-0998-48f8-9cec-7e952f7e1baa",
   "metadata": {},
   "outputs": [],
   "source": [
    "shuffle_dist <- function(distr){\n",
    "  \n",
    "  library(tidyverse)\n",
    "  \n",
    "  #Se agrega la columna id al tibble distr\n",
    "  #Se samplea aleatoriamente por el numero de filas de distr para reordenarlo\n",
    "  tbl_df_O <- distr %>%\n",
    "    mutate( \n",
    "      ID = rep( \n",
    "        1:nrow(distr)\n",
    "      )) %>%\n",
    "    sample_n(nrow(distr)) \n",
    "  \n",
    "  #Devuelve tibble reordenado y con columna ID\n",
    "  tbl_df_O\n",
    "}"
   ]
  },
  {
   "cell_type": "markdown",
   "id": "42ce6831-992f-43f9-a981-993572b02a3c",
   "metadata": {},
   "source": [
    "###Opinion_pool"
   ]
  },
  {
   "cell_type": "markdown",
   "id": "6e776fff-a8c5-473e-ade3-47f0c7c52291",
   "metadata": {},
   "source": [
    "Esta función contiene un loop de repetición que genera un tibble de opiniones local, en dónde se copia el valor (Dim1, Dim2 y Dim3) de la primera fila del tibble pasado como argumento, y luego se inserta dicho valor como argumento en la función anidada Voting(), para generar la votación sobre las ideas presentes en el tibble local. "
   ]
  },
  {
   "cell_type": "code",
   "execution_count": null,
   "id": "bbb35310-51a8-442e-ab62-4785fd64bf9b",
   "metadata": {},
   "outputs": [],
   "source": [
    "####Argumentos"
   ]
  },
  {
   "cell_type": "markdown",
   "id": "49eea8d8-9f50-462b-8cb6-881057693af4",
   "metadata": {},
   "source": [
    "*shuffled_distr: Resultado de la función shuffle_dist.\n",
    "*k: número de ideas a mostrar al participante dentro de Voting(). Utilizado como argumento dentro de Voting()\n",
    "*par_num_iteration: numero de filas seleccionadas del tibble por iteración\n",
    "*nv: Cantidad de votos negativos de los que dispone el participante\n",
    "*pv: Cantidad de votos positivos de los que dispone el participante\n",
    "*t1 y t2: Umbrales de tolerancia de cada participante (extraído de Moussaïd et al. 2013)\n",
    "*k_method: Algoritmo de selección de ideas. Valores posibles: \"random\", \"A\", \"B\"\n",
    "*con_method: Algoritmo de cálculo de consenso. Valores posibles: \"A\" o \"B\""
   ]
  },
  {
   "cell_type": "code",
   "execution_count": null,
   "id": "e0c061f4-a5a0-4174-874b-164f17168b4c",
   "metadata": {},
   "outputs": [],
   "source": [
    "Opinion_pool <-function(shuffled_distr, k, par_num_iteration,\n",
    "                        nv, pv, t1 = 0.3, t2 = 1.1, k_method = \"random\", con_method = \"A\"){\n",
    "  \n",
    "  library(tidyverse)\n",
    "  \n",
    "  #nuevo dataframe con las dimensiones de shuffled_dist\n",
    "  par_pool <- shuffled_distr[, c(1:sum(grepl(\"Dim\", colnames(shuffled_distr))))]\n",
    "  \n",
    "  #dataframe vacio para incorporar resultados del repeat loop\n",
    "  O_pool <- tibble(NULL)\n",
    "  \n",
    "  repeat{\n",
    "    \n",
    "    #se selecciona primera fila \n",
    "    par_n <- par_pool[c(1:par_num_iteration),]\n",
    "    \n",
    "    #se arma un tibble con las dimensiones de par_n\n",
    "    looping_tbl <- tibble(\n",
    "      \"ID\" = sum(nrow(O_pool), 1), \n",
    "      par_n,\n",
    "      \"visualizaciones\"=0, \n",
    "      \"V_pos\"=0,\n",
    "      \"V_neg\" = 0,\n",
    "      \"grado_consenso\"= 0) \n",
    "    \n",
    "    #incorpora la fila armada a O_pool\n",
    "    O_pool <- rbind(O_pool,looping_tbl)\n",
    "    \n",
    "    #se guardan los resultados de la funcion Voting\n",
    "    Voting_loop <- Voting(O_pool, par_n, k, nv, pv, t1, t2, k_method, con_method )\n",
    "    \n",
    "    #se sobrescribe O_pool con los resultados de la votacion\n",
    "    #se actualizan visualizaciones, votos positivos y negativos y el grado de conseso\n",
    "    O_pool <- Voting_loop\n",
    "    \n",
    "    #se ordena O_pool en orden decreciente por grado de consenso\n",
    "    rearranged_df_cons<-order(O_pool$grado_consenso, na.last = F, decreasing = T) \n",
    "    \n",
    "    O_pool <- O_pool[rearranged_df_cons,]\n",
    "    \n",
    "    #se elimina la primera fila del pool de participantes\n",
    "    par_pool <- par_pool[-c(1:par_num_iteration),]\n",
    "    \n",
    "    #el loop se rompe cuando no quedan mas filas en el pool de participantes\n",
    "    if(nrow(par_pool) == 0)\n",
    "      break\n",
    "  }\n",
    "  \n",
    "  return(O_pool)\n",
    "}"
   ]
  },
  {
   "cell_type": "markdown",
   "id": "e782e9a9-1902-44ca-baca-d989e3b4581f",
   "metadata": {},
   "source": [
    "###Voting"
   ]
  },
  {
   "cell_type": "markdown",
   "id": "903105ec-66aa-4476-88a8-6ceda1e1a38f",
   "metadata": {},
   "source": [
    "Esta función es anidada a Opinion_pool(). Contiene el algoritmo de votación."
   ]
  },
  {
   "cell_type": "markdown",
   "id": "39ae53b3-ef3e-4270-b964-96f787865c22",
   "metadata": {},
   "source": [
    "####Argumentos"
   ]
  },
  {
   "cell_type": "markdown",
   "id": "1092f00e-8506-4dfd-abda-8e6e72bf9d6d",
   "metadata": {},
   "source": [
    "*O_pool: tibble/dataframe\n",
    "*par: fila con n cantidad de valores (Dim1, Dim2 y Dim3)\n",
    "*k,vneg, vpos,t1, t2, k_method, cons_method: Idem Opinion_pool"
   ]
  },
  {
   "cell_type": "code",
   "execution_count": null,
   "id": "21b9eb42-d237-46db-88bb-4e380b1ea668",
   "metadata": {},
   "outputs": [],
   "source": [
    "Voting <- function(O_pool, par, k, vneg, vpos,  t1 = 0.3, t2 = 1.1, k_method = \"random\", cons_method = \"A\" ){\n",
    "  \n",
    "  \n",
    "  #Si el metodo de seleccion de ideas es \"A\", se samplean las ultimas filas de O_pool para que todas las ideas\n",
    "  #sean visualizadas el mismo numero de veces\n",
    "  #Si \"B\" se samplean las primeras filas de O_pool, es decir, las que mayor consenso generaron,\n",
    "  #es decir, que fueron las que fueron más vistas y votadas\n",
    "  #Si \"random\" o cualquier otra cosa que no sea ni \"A\" ni \"B\" se samplean filas de O_pool de manera aleatoria\n",
    "  \n",
    "  if(k_method == \"A\"){\n",
    "    k_opinion <- sample_n(tail(O_pool, k), ifelse(nrow(O_pool) >= k, yes = k, no = nrow(O_pool)), replace = F)\n",
    "  } else if(k_method == \"B\"){\n",
    "    k_opinion <- sample_n(head(O_pool, k), ifelse(nrow(O_pool) >= k, yes = k, no = nrow(O_pool)), replace = F)}\n",
    "  else{\n",
    "    k_opinion <- sample_n(O_pool, ifelse(nrow(O_pool) >= k, yes = k, no = nrow(O_pool)), replace = F)\n",
    "  }\n",
    "  \n",
    "  #k vectores con las dimensiones de k_opinion\n",
    "  k2_noid <- k_opinion[, c(2:sum(grepl(\"Dim\", colnames(O_pool)),1))]\n",
    "  \n",
    "  distance <- function(x){\n",
    "    abs(par) - abs(x)\n",
    "  }\n",
    "  \n",
    "  kpar_distdf <- apply(k2_noid,1,distance)\n",
    "  \n",
    "  #deshacemos la lista y coercemos como matriz\n",
    "  kpar_distdf <- matrix(unlist(kpar_distdf), nrow = nrow(k_opinion), byrow = T)\n",
    "  \n",
    "  #coercemos la matriz en dataframe\n",
    "  kpar_distdf <- as.data.frame(kpar_distdf)\n",
    "  \n",
    "  #se agregan las medias por cada fila\n",
    "  kpar_distdf$means <- abs(rowMeans(kpar_distdf))\n",
    "  \n",
    "  #se agrega el id\n",
    "  kpar_distdf$ID <- k_opinion$ID\n",
    "  \n",
    "  #se filtran los valores que pasan t1 en un dataframe aparte\n",
    "  agree <- which(kpar_distdf$means < t1)\n",
    "\n",
    "  agree_df <- kpar_distdf[agree,]\n",
    "  \n",
    "  #se ordena el nuevo dataframe en orden ascendiente\n",
    "  agree_df<- agree_df[order(agree_df$means),]\n",
    "  \n",
    "  #se filtran los valores entre t1 y t2 en un dataframe aparte\n",
    "  compromise <- which(between(kpar_distdf$means,t1,t2))\n",
    "  \n",
    "  compromise_df <- kpar_distdf[compromise,]\n",
    "  \n",
    "  #se ordena el nuevo dataframe en orden ascendiente\n",
    "  compromise_df<- compromise_df[order(compromise_df$means),]\n",
    "  \n",
    "  #se filtran valores superiores a t2 en un dataframe aparte\n",
    "  disagree <- which(kpar_distdf$means > t2)\n",
    "  \n",
    "  disagree_df <- kpar_distdf[disagree,]\n",
    "  \n",
    "  O_pool$visualizaciones[which(O_pool$ID%in%k_opinion$ID)] <- O_pool$visualizaciones[which(O_pool$ID%in%k_opinion$ID)] + 1 #se suma 1 a la dimension \"visualizacion\" del df a las ideas I presentes \n",
    "  # en k\n",
    "  \n",
    "  if (length(agree) > 0 && vpos > 0){\n",
    "    \n",
    "    #se reemplaza el df original por el df reordenado\n",
    "    #se combinan valores menores a t1 con valores entre t1 y t2 \n",
    "    #los valores de t1 son los primeros valores\n",
    "    kpar_distdf_top <- rbind(agree_df, compromise_df)\n",
    "    \n",
    "    #se utiliza el df reordenado para filtrar las filas a las que se les va asignar voto positivo\n",
    "    kpar_distdf_top<- kpar_distdf_top[c(1:vpos),]\n",
    "    \n",
    "    O_pool$V_pos[which(O_pool$ID%in%kpar_distdf_top$ID)] <- O_pool$V_pos[which(O_pool$ID%in%kpar_distdf_top$ID)] + 1 #se suma 1 punto a la idea que se corresponde con el valor minimo\n",
    "    \n",
    "  }\n",
    "  \n",
    "  if (length(disagree) > 0 && vneg > 0){\n",
    "    \n",
    "    #se ordenan los valores en orden decreciente\n",
    "    kpar_distdf_bottom <- disagree_df[order(disagree_df$means, decreasing = T),]\n",
    "    \n",
    "    #se utiliza el df inverso para filtrar las filas a las que se les va asignar voto negativo\n",
    "    kpar_distdf_bottom<- kpar_distdf_bottom[c(1:vneg),]\n",
    "    \n",
    "    O_pool$V_neg[which(O_pool$ID%in%kpar_distdf_bottom$ID)] <- O_pool$V_neg[which(O_pool$ID%in%kpar_distdf_bottom$ID)] + 1 #se suma 1 punto a la idea que se corresponde con el valor minimo\n",
    "    \n",
    "  }\n",
    "  \n",
    "  #eleccion de criterio de consenso \"B\" o \"A\"\n",
    "  if(cons_method == \"B\"){\n",
    "    O_pool$grado_consenso[which(O_pool$ID%in%k_opinion$ID)] <- (O_pool$V_pos[which(O_pool$ID%in%k_opinion$ID)]-\n",
    "                                                                  O_pool$V_neg[which(O_pool$ID%in%k_opinion$ID)])/O_pool$visualizaciones[which(O_pool$ID%in%k_opinion$ID)]\n",
    "  }else{\n",
    "    O_pool$grado_consenso[which(O_pool$ID%in%k_opinion$ID)] <- O_pool$V_pos[which(O_pool$ID%in%k_opinion$ID)]/O_pool$visualizaciones[which(O_pool$ID%in%k_opinion$ID)]\n",
    "  }\n",
    "  \n",
    "  return(O_pool)\n",
    "}"
   ]
  },
  {
   "cell_type": "markdown",
   "id": "b2257948-43ae-4bb9-b307-ec6bb60c5d24",
   "metadata": {},
   "source": [
    "###OV_loop"
   ]
  },
  {
   "cell_type": "markdown",
   "id": "8c64c21b-b940-41b6-9067-e12a90920ac8",
   "metadata": {},
   "source": [
    "Incorpora shuffle_dist() Y Opinion_pool() en una sola funcion. Colocar el resultado de mixingfun en mixeddistr. Setear argumentos de Voting(): k, vneg, vpos. El resultado es ordenado en funcion de grado_consenso descendiente"
   ]
  },
  {
   "cell_type": "code",
   "execution_count": null,
   "id": "c74e695c-b870-4f9d-8c04-aa024235c6f5",
   "metadata": {},
   "outputs": [],
   "source": [
    "OV_loop <- function(mixeddistr, k, par_num_iteration, vneg, vpos,\n",
    "                    t1 = 0.3, t2 = 1.1, k_method = \"random\", con_method = \"A\"){\n",
    "  \n",
    "  shuffled_dist <- shuffle_dist(mixeddistr)\n",
    "  \n",
    "  OV_res <- Opinion_pool(shuffled_dist, k, par_num_iteration, vneg, vpos, t1, t2, k_method, con_method )\n",
    "  \n",
    "  return(OV_res)\n",
    "  \n",
    "}\n"
   ]
  }
 ],
 "metadata": {
  "kernelspec": {
   "display_name": "R",
   "language": "R",
   "name": "ir"
  },
  "language_info": {
   "codemirror_mode": "r",
   "file_extension": ".r",
   "mimetype": "text/x-r-source",
   "name": "R",
   "pygments_lexer": "r",
   "version": "4.2.1"
  }
 },
 "nbformat": 4,
 "nbformat_minor": 5
}
