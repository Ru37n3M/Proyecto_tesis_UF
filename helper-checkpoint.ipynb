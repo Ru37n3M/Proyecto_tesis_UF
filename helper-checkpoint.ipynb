{
 "cells": [
  {
   "cell_type": "markdown",
   "id": "583695bf-5943-4a98-a8a1-220c17528111",
   "metadata": {},
   "source": [
    "#Efectos contextuales de dinamica de opiniones sobre una plataforma de crowdsourcing"
   ]
  },
  {
   "cell_type": "markdown",
   "id": "1adb257f-92ce-4f23-9201-ce50807c8c5b",
   "metadata": {},
   "source": [
    "##Helper de funciones"
   ]
  },
  {
   "cell_type": "markdown",
   "id": "20fb2c85-dc6e-4046-bbc3-bcdd58238aaa",
   "metadata": {},
   "source": [
    "###mixingfun"
   ]
  },
  {
   "cell_type": "markdown",
   "id": "ea0cf745-980a-419e-900e-5594edd7df95",
   "metadata": {},
   "source": [
    "Esta función genera un tibble a partir de una mezcla de 3 distribuciones multivariadas. Siendo Dim1, Dim2 y Dim3 las columnas con los valores de las 3 dimensiones y Dist una columna que contiene un numero que identifica la distribución de la cual provino la fila. "
   ]
  },
  {
   "cell_type": "markdown",
   "id": "5dfad106-e2d1-4579-a181-2e9c505ba3aa",
   "metadata": {},
   "source": [
    "####Argumentos"
   ]
  },
  {
   "cell_type": "markdown",
   "id": "4b2d8231-0cf1-47fd-aca4-14c1e8d60a8d",
   "metadata": {},
   "source": [
    "<ul>\n",
    "    <li>dislist: debe ser una lista de 3 elementos que contenga \"n\" (numero de observaciones de cada distribución), \"means\" (medias de cada distribución) y \"cov_mat\" (matrices de covarianza 3 x 3 de cada distribución)</li>\n",
    "</ul>"
   ]
  },
  {
   "cell_type": "code",
   "execution_count": null,
   "id": "e3064d02-7d4e-414b-9b3c-217503cd4e21",
   "metadata": {},
   "outputs": [],
   "source": [
    "mixingfun <- function(dislist){\n",
    "  #La funcion devuelve un tibble con los valores para las 3 dimensiones y la distribucion original de donde proviene cada valor\n",
    "  \n",
    "  #dislist: Tiene que ser una lista de 3 elementos nombrada como \"n\",\"means\" y \"cov_mat\" con un vector de longitud K, una lista de longitud K con vectores de longitud 3 y una lista de longitud K con matrices 3 x 3. El primer elemento marca la cantidad de sujetos a extraer de cada distribucion, el segundo elemento la media de cada distribucion y el ultimo la matriz de covarianza de cada distribucion.  \n",
    "  \n",
    "  library(MASS)\n",
    "  library(tidyverse)\n",
    "  \n",
    "  pmap(\n",
    "    dislist,\n",
    "    function(n, means, cov_mat) mvrnorm(n, means, cov_mat) #Genero los muestreos de la distribucion multivariada\n",
    "  ) %>% \n",
    "    lapply(as.data.frame) %>%  #Convierte cada matriz de la lista en dataframe\n",
    "    bind_rows() %>% #Une la lista de matrices en un solo dataframe\n",
    "    rename(Dim1 = V1,Dim2 = V2,Dim3 = V3) %>% #Cambia los nombres de las 3 columnas a algo mas representativo\n",
    "    mutate( #Creo una nueva variable para indicar de que distribucion proviene originalmente cada valor\n",
    "      Dist = rep( \n",
    "        1:length(dislist$n), dislist$n #Pongo un numero para cada distribucion y lo repito segun cuantos datos hay provenientes de esa distribucion\n",
    "      )\n",
    "    ) %>%\n",
    "    tibble() #Convierto el resultado final en un tibble\n",
    "  \n",
    "}"
   ]
  },
  {
   "cell_type": "markdown",
   "id": "37b8282c-4f22-47dc-a3dd-8b6752cf04dd",
   "metadata": {},
   "source": [
    "###shuffle_dist"
   ]
  },
  {
   "cell_type": "markdown",
   "id": "c99ff739-2ab4-4501-94cc-72fbd59f59a9",
   "metadata": {},
   "source": [
    "Esta función mezcla aleatoriamente las filas del tibble o dataframe pasado como argumento. Es usado con el resultado de mixingfun para aleatorizar el orden de las filas."
   ]
  },
  {
   "cell_type": "markdown",
   "id": "c6851699-324c-4fdf-9e91-73a5ef885342",
   "metadata": {},
   "source": [
    "####Argumentos"
   ]
  },
  {
   "cell_type": "markdown",
   "id": "15995239-1d31-4d34-a55d-b4c02e7300b5",
   "metadata": {},
   "source": [
    "<ul>\n",
    "    <li>distr: dataframe/tibble con n filas</li>\n",
    "</ul>"
   ]
  },
  {
   "cell_type": "code",
   "execution_count": null,
   "id": "1c52a0fe-0998-48f8-9cec-7e952f7e1baa",
   "metadata": {},
   "outputs": [],
   "source": [
    "shuffle_dist <- function(distr){\n",
    "  \n",
    "  library(tidyverse)\n",
    "  \n",
    "  #Se agrega la columna id al tibble distr\n",
    "  #Se samplea aleatoriamente por el numero de filas de distr para reordenarlo\n",
    "  tbl_df_O <- distr %>%\n",
    "    mutate( \n",
    "      ID = rep( \n",
    "        1:nrow(distr)\n",
    "      )) %>%\n",
    "    sample_n(nrow(distr)) \n",
    "  \n",
    "  #Devuelve tibble reordenado y con columna ID\n",
    "  tbl_df_O\n",
    "}"
   ]
  },
  {
   "cell_type": "markdown",
   "id": "42ce6831-992f-43f9-a981-993572b02a3c",
   "metadata": {},
   "source": [
    "###Opinion_pool"
   ]
  },
  {
   "cell_type": "markdown",
   "id": "6e776fff-a8c5-473e-ade3-47f0c7c52291",
   "metadata": {},
   "source": [
    "Esta función contiene un loop de repetición que genera un tibble de opiniones local, en dónde se copia el valor (Dim1, Dim2 y Dim3) de la primera fila del tibble pasado como argumento, y luego se inserta dicho valor como argumento en la función anidada Voting(), para generar la votación sobre las ideas presentes en el tibble local. "
   ]
  },
  {
   "cell_type": "markdown",
   "id": "d4830204-3c2b-4919-9627-c412c9f8087e",
   "metadata": {},
   "source": [
    "####Argumentos"
   ]
  },
  {
   "cell_type": "markdown",
   "id": "49eea8d8-9f50-462b-8cb6-881057693af4",
   "metadata": {},
   "source": [
    "<ul>\n",
    "    <li>shuffled_distr: Resultado de la función shuffle_dist.</li>\n",
    "    <li>k: número de ideas a mostrar al participante dentro de Voting(). Utilizado como argumento dentro de Voting()</li>\n",
    "    <li>par_num_iteration: numero de filas seleccionadas del tibble por iteración</li>\n",
    "    <li>nv: Cantidad de votos negativos de los que dispone el participante</li>\n",
    "    <li>pv: Cantidad de votos positivos de los que dispone el participante</li>}\n",
    "    <li>ego: Valor mayor a 0 y menor o igual a 1. Probabilidad de que el participante vote su propia idea, de estar presente en k. A mayor valor, menor probabilidad de que el sujeto vote su propia idea</li>\n",
    "    <li>k_method: Algoritmo de selección de ideas. Valores posibles: \"random\", \"A\", \"B\"</li>\n",
    "</ul>"
   ]
  },
  {
   "cell_type": "code",
   "execution_count": null,
   "id": "e0c061f4-a5a0-4174-874b-164f17168b4c",
   "metadata": {},
   "outputs": [],
   "source": [
    "Opinion_pool <-function(shuffled_distr, k, par_num_iteration,\n",
    "                        nv, pv, ego = 0.01, k_method = \"random\"){\n",
    "  \n",
    "  #shuffle_dist: espera los resultados de shuffle_dist\n",
    "  #k: numero de ideas que cada participante va a ver (numero entero)\n",
    "  #par_num_iteration: cantidad de participantes por iteracion [FALTA ACLARAR QUE PASA CON ESTE ARGUMENTO]\n",
    "  #nv: la cantidad de votos negativos (numero entero)\n",
    "  #pv: la cantidad de votos positivos (numero entero)\n",
    "  #ego: valor > 0 o <= 1, definido como la probabilidad que tiene el participante de votar su propia idea (Dij == 0), valores mas cercanos a 0 implican mayor prob. de votar idea propia\n",
    "  #k_method: criterio de seleccion de k, puede ser \"random\" (default), \"A\" o \"B\"\n",
    "  \n",
    "  \n",
    "  library(tidyverse)\n",
    "  \n",
    "  #nuevo dataframe con las dimensiones de shuffled_dist\n",
    "  par_pool <- shuffled_distr[, c(1:sum(grepl(\"Dim\", colnames(shuffled_distr))))]\n",
    "  \n",
    "  #dataframe vacio para incorporar resultados del repeat loop\n",
    "  O_pool <- tibble(NULL)\n",
    "  \n",
    "  repeat{\n",
    "    \n",
    "    #se selecciona primera fila \n",
    "    par_n <- par_pool[c(1:par_num_iteration),]\n",
    "    \n",
    "    #se arma un tibble con las dimensiones de par_n\n",
    "    looping_tbl <- tibble(\n",
    "      \"ID\" = sum(nrow(O_pool), 1), \n",
    "      par_n,\n",
    "      \"visualizaciones\"=0, \n",
    "      \"V_pos\"=0,\n",
    "      \"V_neg\" = 0,\n",
    "      \"grado_consenso\"= 0) \n",
    "    \n",
    "    #incorpora la fila armada a O_pool\n",
    "    O_pool <- rbind(O_pool,looping_tbl)\n",
    "    \n",
    "    #se guardan los resultados de la funcion Voting\n",
    "    Voting_loop <- Voting(O_pool, par_n, k, nv, pv, ego, k_method)\n",
    "    \n",
    "    #se sobrescribe O_pool con los resultados de la votacion\n",
    "    #se actualizan visualizaciones, votos positivos y negativos y el grado de conseso\n",
    "    O_pool <- Voting_loop\n",
    "    \n",
    "    \n",
    "    #se elimina la primera fila del pool de participantes\n",
    "    par_pool <- par_pool[-c(1:par_num_iteration),]\n",
    "    \n",
    "    #el loop se rompe cuando no quedan mas filas en el pool de participantes\n",
    "    if(nrow(par_pool) == 0)\n",
    "      break\n",
    "  }\n",
    "  \n",
    "  return(O_pool)\n",
    "}"
   ]
  },
  {
   "cell_type": "markdown",
   "id": "e782e9a9-1902-44ca-baca-d989e3b4581f",
   "metadata": {},
   "source": [
    "###Voting"
   ]
  },
  {
   "cell_type": "markdown",
   "id": "903105ec-66aa-4476-88a8-6ceda1e1a38f",
   "metadata": {},
   "source": [
    "Esta función es anidada a Opinion_pool(). Contiene el algoritmo de votación."
   ]
  },
  {
   "cell_type": "markdown",
   "id": "39ae53b3-ef3e-4270-b964-96f787865c22",
   "metadata": {},
   "source": [
    "####Argumentos"
   ]
  },
  {
   "cell_type": "markdown",
   "id": "1092f00e-8506-4dfd-abda-8e6e72bf9d6d",
   "metadata": {},
   "source": [
    "<ul>\n",
    "    <li>O_pool: tibble/dataframe</li>\n",
    "    <li>par: fila con n cantidad de valores (Dim1, Dim2 y Dim3)</li>\n",
    "    <li>k,vneg, vpos, ego, k_method: Idem Opinion_pool</li>\n",
    "</ul>"
   ]
  },
  {
   "cell_type": "code",
   "execution_count": null,
   "id": "21b9eb42-d237-46db-88bb-4e380b1ea668",
   "metadata": {},
   "outputs": [],
   "source": [
    "Voting <- function(O_pool, par, k, vneg, vpos, ego = 0.01, k_method = \"random\"){\n",
    "  \n",
    "  \n",
    "  #Si el metodo de seleccion de ideas es \"A\", se samplean las ultimas filas de O_pool para que todas las ideas\n",
    "  #sean visualizadas el mismo numero de veces\n",
    "  #Si \"B\" se samplean las primeras filas de O_pool, es decir, las que mayor consenso generaron,\n",
    "  #es decir, que fueron las que fueron más vistas y votadas\n",
    "  #Si \"random\" o cualquier otra cosa que no sea ni \"A\" ni \"B\" se samplean filas de O_pool de manera aleatoria\n",
    "  \n",
    "  if(k_method == \"A\"){\n",
    "    \n",
    "    #Se reordena el tibble de mayor a menor visualizaciones\n",
    "    rearranged_df_vis<-order(O_pool$visualizaciones, na.last = F, decreasing = T) \n",
    "    \n",
    "    O_pool_vis <- O_pool[rearranged_df_vis,]\n",
    "    \n",
    "    #Se samplea k entre las últimas filas del dataframe\n",
    "    k_opinion <- sample_n(tail(O_pool_vis, k), ifelse(nrow(O_pool_vis) >= k, yes = k, no = nrow(O_pool_vis)), replace = F)\n",
    "  } else if(k_method == \"B\"){\n",
    "    \n",
    "    #Se reordena el tibble de mayor a menor visualizaciones\n",
    "    rearranged_df_vis<-order(O_pool$visualizaciones, na.last = F, decreasing = T) \n",
    "    \n",
    "    O_pool_vis <- O_pool[rearranged_df_vis,]\n",
    "    \n",
    "    #Se samplea k/2 entre las últimas filas del dataframe\n",
    "    sample_bottomvis <- sample_n(tail(O_pool_vis, k), ifelse(nrow(O_pool_vis) >= k, yes = k, no = nrow(O_pool_vis)), replace = F)\n",
    "    \n",
    "    #Se reordena el tibble de mayor a menor ratio votos/visualizaciones\n",
    "    rearranged_df_ratiovm<-order(O_pool$grado_consenso, na.last = F, decreasing = T) \n",
    "    \n",
    "    O_pool_cons <- O_pool[rearranged_df_ratiovm,]\n",
    "    \n",
    "    #Se samplea k/2 entre las últimas filas del dataframe\n",
    "    sample_topcons <- sample_n(head(O_pool_cons, k), ifelse(nrow(O_pool_cons) >= k, yes = k, no = nrow(O_pool_cons)), replace = F)\n",
    "    \n",
    "    mixed <- rbind(sample_bottomvis, sample_topcons)\n",
    "    \n",
    "    #Se unen los resultados de ambos samplings\n",
    "    k_opinion <- sample_n(mixed, ifelse(nrow(mixed) >= k, yes = k, no = nrow(mixed)), replace = F)\n",
    "    \n",
    "  }\n",
    "  \n",
    "  else{\n",
    "    #Sampleo aleatorio\n",
    "    k_opinion <- sample_n(O_pool, ifelse(nrow(O_pool) >= k, yes = k, no = nrow(O_pool)), replace = F)\n",
    "  }\n",
    "  \n",
    "  O_pool$visualizaciones[which(O_pool$ID%in%k_opinion$ID)] <- O_pool$visualizaciones[which(O_pool$ID%in%k_opinion$ID)] + 1 #se suma 1 a la dimension \"visualizacion\" del df a las ideas I presentes \n",
    "  # en \n",
    "  \n",
    "  #k vectores con las dimensiones de k_opinion\n",
    "  k2_noid <- k_opinion[, c(2:sum(grepl(\"Dim\", colnames(O_pool)),1))]\n",
    "  \n",
    "  #Distancia entre participante y k\n",
    "  distance_i_j <- function(x){\n",
    "    abs(par) - abs(x)\n",
    "  }\n",
    "  \n",
    "  #Matriz de k filas con el resultado de la diferencia\n",
    "  Dij <- apply(k2_noid,1, distance_i_j)\n",
    "  \n",
    "  Dij <- bind_rows(Dij)\n",
    "  \n",
    "  #Se pasan a valores absolutos todos los numeros\n",
    "  Dij <- abs(Dij)\n",
    "  \n",
    "  #Comprobamos que no haya 0 como valor de algún vector, en caso de ser 0, se reemplaza por un valor distinto a 0 para\n",
    "  #evitar division por 0. Vectores de valor 0 ocurren en las primeras iteraciones del loop, donde \n",
    "  #es mas probable que el participante vea su opinion en las k ideas seleccionadas\n",
    "  Dij[Dij == 0] <- ego\n",
    "  \n",
    "  #Inversa de la distancia, se elevan todos los valores a la -1\n",
    "  sumDij_inverse <- sum(Dij**-1)\n",
    "  \n",
    "  #Probabilidad de cada vector de valores de ser elegido en base a la sumatoria de todas las distancias\n",
    "  Probs_vpos <- function(x){\n",
    "    (x**-1) / sumDij_inverse\n",
    "  }\n",
    "  \n",
    "  Poij_pos<- sapply(Dij, Probs_vpos)\n",
    "  \n",
    "  #Poij_pos<- rowSums(Poij_pos)\n",
    "  \n",
    "  #se samlea vpos con las probabilidades de cada fila/vector\n",
    "  Voted_pos <- sample_n(k_opinion, vpos, prob = c(Poij_pos), replace = T)\n",
    "  \n",
    "  #se suma 1 punto a la idea que se corresponde con el valor minimo\n",
    "  O_pool$V_pos[which(O_pool$ID%in%Voted_pos$ID)] <- O_pool$V_pos[which(O_pool$ID%in%Voted_pos$ID)] + 1 \n",
    "  \n",
    "  #Sumatoria de todas las distancias\n",
    "  sumDij <- sum(Dij)\n",
    "  \n",
    "  #Probabilidad de voto negativo\n",
    "  Probs_vneg <- function(x){\n",
    "    x / sumDij\n",
    "  }\n",
    "  \n",
    "  Poij_neg<- sapply(Dij, Probs_vneg)\n",
    "  \n",
    "  #Poij_neg <- rowSums(Poij_neg)\n",
    "  \n",
    "  #Se samplea vneg de k_opinion con probabilidades de voto negativo para cada vector\n",
    "  Voted_neg <- sample_n(k_opinion,vneg, prob = c(Poij_neg), replace = T)\n",
    "  \n",
    "  #se suma 1 punto a la idea que se corresponde con el valor minimo\n",
    "  O_pool$V_neg[which(O_pool$ID%in%Voted_neg$ID)] <- O_pool$V_neg[which(O_pool$ID%in%Voted_neg$ID)] + 1 \n",
    "  \n",
    "  #Ratio Votos/visualizaciones\n",
    "  O_pool$grado_consenso[which(O_pool$ID%in%k_opinion$ID)] <- (O_pool$V_pos[which(O_pool$ID%in%k_opinion$ID)]-\n",
    "                                                                O_pool$V_neg[which(O_pool$ID%in%k_opinion$ID)])/O_pool$visualizaciones[which(O_pool$ID%in%k_opinion$ID)]\n",
    "  \n",
    "  return(O_pool)\n",
    "}"
   ]
  },
  {
   "cell_type": "markdown",
   "id": "b2257948-43ae-4bb9-b307-ec6bb60c5d24",
   "metadata": {},
   "source": [
    "###OV_loop"
   ]
  },
  {
   "cell_type": "markdown",
   "id": "8c64c21b-b940-41b6-9067-e12a90920ac8",
   "metadata": {},
   "source": [
    "Incorpora shuffle_dist() Y Opinion_pool() en una sola funcion. Colocar el resultado de mixingfun en mixeddistr. Setear argumentos de Voting(): k, vneg, vpos. El resultado es ordenado en funcion de grado_consenso descendiente"
   ]
  },
  {
   "cell_type": "code",
   "execution_count": null,
   "id": "c74e695c-b870-4f9d-8c04-aa024235c6f5",
   "metadata": {},
   "outputs": [],
   "source": [
    "OV_loop <- function(mixeddistr, k, par_num_iteration, vneg, vpos,\n",
    "                    ego=0.01, k_method = \"random\"){\n",
    "  \n",
    "  shuffled_dist <- shuffle_dist(mixeddistr)\n",
    "  \n",
    "  OV_res <- Opinion_pool(shuffled_dist, k, par_num_iteration, vneg, vpos, ego, k_method)\n",
    "  \n",
    "  return(OV_res)\n",
    "  \n",
    "}"
   ]
  },
  {
   "cell_type": "markdown",
   "id": "bba6cf7a-c4ce-40e4-b60a-2ef3e1d238aa",
   "metadata": {},
   "source": [
    "Ver function_helper.R en master para descargar/copiar archivo completo"
   ]
  }
 ],
 "metadata": {
  "kernelspec": {
   "display_name": "R",
   "language": "R",
   "name": "ir"
  },
  "language_info": {
   "codemirror_mode": "r",
   "file_extension": ".r",
   "mimetype": "text/x-r-source",
   "name": "R",
   "pygments_lexer": "r",
   "version": "4.2.1"
  }
 },
 "nbformat": 4,
 "nbformat_minor": 5
}
